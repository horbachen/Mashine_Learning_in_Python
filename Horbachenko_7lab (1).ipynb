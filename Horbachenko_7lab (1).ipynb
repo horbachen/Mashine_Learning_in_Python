{
 "cells": [
  {
   "cell_type": "raw",
   "id": "15de890df0603551",
   "metadata": {
    "collapsed": false
   },
   "source": [
    "ЛАБОРАТОРНА РОБОТА 7\n",
    "Тема: РЕКОМЕНДАЦІЙНІ СИСТЕМИ\n",
    "Завдання 1.\n",
    "    1. Завантажте датасет для рецензій (ml-100k) за допомогою бібліотеки Surprise.\n",
    "    2. Виведіть перші 5 рядків завантаженого датасету.\n",
    "    3. Реалізуйте два алгоритми для рекомендаційної системи на основі цього датасету. \n",
    "    Можна вибрати будь-які алгоритми з бібліотеки Surprise.\n",
    "    4. Використайте крос-валідацію для підбору оптимальних параметрів для обох алгоритмів.\n",
    "    5. Оберіть найкращий алгоритм на основі середньої абсолютної помилки (MAE).\n",
    "    6. Виведи рекомендації (10 фільмів) для конкретного користувача."
   ]
  },
  {
   "cell_type": "code",
   "execution_count": 15,
   "id": "153d1a4086e02ebe",
   "metadata": {
    "ExecuteTime": {
     "end_time": "2024-09-21T16:48:53.119722Z",
     "start_time": "2024-09-21T16:48:53.111261Z"
    },
    "collapsed": false
   },
   "outputs": [],
   "source": [
    "import pandas as pd\n",
    "import numpy as np\n",
    "\n",
    "from sklearn.metrics import mean_absolute_error\n",
    "from numpy.linalg import norm\n",
    "from surprise import Dataset\n",
    "from surprise import SVD, KNNBasic, Reader\n",
    "from surprise.model_selection import cross_validate\n",
    "from surprise.model_selection import train_test_split\n",
    "from surprise import accuracy"
   ]
  },
  {
   "cell_type": "code",
   "execution_count": 3,
   "id": "6e69a6d77af8ddbf",
   "metadata": {
    "ExecuteTime": {
     "end_time": "2024-09-21T16:00:41.501358Z",
     "start_time": "2024-09-21T16:00:41.335309Z"
    },
    "collapsed": false
   },
   "outputs": [],
   "source": [
    "# 1. Завантажте датасет для рецензій (ml-100k) за допомогою бібліотеки Surprise.\n",
    "data = Dataset.load_builtin('ml-100k')\n",
    "df = pd.DataFrame(data.raw_ratings, columns=['user', 'item', 'rating', 'timestamp'])"
   ]
  },
  {
   "cell_type": "code",
   "execution_count": 4,
   "id": "50ea7d1bb1ee0e8e",
   "metadata": {
    "ExecuteTime": {
     "end_time": "2024-09-21T16:00:44.590315Z",
     "start_time": "2024-09-21T16:00:44.550607Z"
    },
    "collapsed": false
   },
   "outputs": [
    {
     "data": {
      "text/html": [
       "<div>\n",
       "<style scoped>\n",
       "    .dataframe tbody tr th:only-of-type {\n",
       "        vertical-align: middle;\n",
       "    }\n",
       "\n",
       "    .dataframe tbody tr th {\n",
       "        vertical-align: top;\n",
       "    }\n",
       "\n",
       "    .dataframe thead th {\n",
       "        text-align: right;\n",
       "    }\n",
       "</style>\n",
       "<table border=\"1\" class=\"dataframe\">\n",
       "  <thead>\n",
       "    <tr style=\"text-align: right;\">\n",
       "      <th></th>\n",
       "      <th>user</th>\n",
       "      <th>item</th>\n",
       "      <th>rating</th>\n",
       "      <th>timestamp</th>\n",
       "    </tr>\n",
       "  </thead>\n",
       "  <tbody>\n",
       "    <tr>\n",
       "      <th>0</th>\n",
       "      <td>196</td>\n",
       "      <td>242</td>\n",
       "      <td>3.0</td>\n",
       "      <td>881250949</td>\n",
       "    </tr>\n",
       "    <tr>\n",
       "      <th>1</th>\n",
       "      <td>186</td>\n",
       "      <td>302</td>\n",
       "      <td>3.0</td>\n",
       "      <td>891717742</td>\n",
       "    </tr>\n",
       "    <tr>\n",
       "      <th>2</th>\n",
       "      <td>22</td>\n",
       "      <td>377</td>\n",
       "      <td>1.0</td>\n",
       "      <td>878887116</td>\n",
       "    </tr>\n",
       "    <tr>\n",
       "      <th>3</th>\n",
       "      <td>244</td>\n",
       "      <td>51</td>\n",
       "      <td>2.0</td>\n",
       "      <td>880606923</td>\n",
       "    </tr>\n",
       "    <tr>\n",
       "      <th>4</th>\n",
       "      <td>166</td>\n",
       "      <td>346</td>\n",
       "      <td>1.0</td>\n",
       "      <td>886397596</td>\n",
       "    </tr>\n",
       "  </tbody>\n",
       "</table>\n",
       "</div>"
      ],
      "text/plain": [
       "  user item  rating  timestamp\n",
       "0  196  242     3.0  881250949\n",
       "1  186  302     3.0  891717742\n",
       "2   22  377     1.0  878887116\n",
       "3  244   51     2.0  880606923\n",
       "4  166  346     1.0  886397596"
      ]
     },
     "execution_count": 4,
     "metadata": {},
     "output_type": "execute_result"
    }
   ],
   "source": [
    "# 2. Виведіть перші 5 рядків завантаженого датасету.\n",
    "df.head(5)"
   ]
  },
  {
   "cell_type": "code",
   "execution_count": 6,
   "id": "cb5973a5d4c6fb3d",
   "metadata": {
    "ExecuteTime": {
     "end_time": "2024-09-21T16:02:48.958168Z",
     "start_time": "2024-09-21T16:02:48.934304Z"
    },
    "collapsed": false
   },
   "outputs": [],
   "source": [
    "# 3. Реалізуйте два алгоритми для рекомендаційної системи на основі цього датасету.\n",
    "# Завантажуємо дані у форматі Surprise\n",
    "reader = Reader(rating_scale=(1, 5))\n",
    "data = Dataset.load_from_df(df[['user', 'item', 'rating']], reader)\n",
    "\n",
    "# Алгоритми\n",
    "algo1 = SVD()  # Алгоритм SVD\n",
    "algo2 = KNNBasic()  # Алгоритм KNN"
   ]
  },
  {
   "cell_type": "code",
   "execution_count": 7,
   "id": "435804b796681eba",
   "metadata": {
    "ExecuteTime": {
     "end_time": "2024-09-21T16:03:00.263025Z",
     "start_time": "2024-09-21T16:02:50.890500Z"
    },
    "collapsed": false
   },
   "outputs": [
    {
     "name": "stdout",
     "output_type": "stream",
     "text": [
      "Evaluating MAE of algorithm SVD on 5 split(s).\n",
      "\n",
      "                  Fold 1  Fold 2  Fold 3  Fold 4  Fold 5  Mean    Std     \n",
      "MAE (testset)     0.7396  0.7388  0.7426  0.7387  0.7333  0.7386  0.0030  \n",
      "Fit time          0.36    0.35    0.37    0.38    0.35    0.36    0.01    \n",
      "Test time         0.04    0.07    0.05    0.07    0.05    0.06    0.01    \n",
      "Computing the msd similarity matrix...\n",
      "Done computing similarity matrix.\n",
      "Computing the msd similarity matrix...\n",
      "Done computing similarity matrix.\n",
      "Computing the msd similarity matrix...\n",
      "Done computing similarity matrix.\n",
      "Computing the msd similarity matrix...\n",
      "Done computing similarity matrix.\n",
      "Computing the msd similarity matrix...\n",
      "Done computing similarity matrix.\n",
      "Evaluating MAE of algorithm KNNBasic on 5 split(s).\n",
      "\n",
      "                  Fold 1  Fold 2  Fold 3  Fold 4  Fold 5  Mean    Std     \n",
      "MAE (testset)     0.7750  0.7712  0.7768  0.7739  0.7689  0.7732  0.0028  \n",
      "Fit time          0.13    0.10    0.15    0.10    0.10    0.11    0.02    \n",
      "Test time         1.27    1.21    1.18    1.22    1.16    1.21    0.04    \n"
     ]
    },
    {
     "data": {
      "text/plain": [
       "{'test_mae': array([0.77496068, 0.77124317, 0.77682118, 0.77394969, 0.76889074]),\n",
       " 'fit_time': (0.12665104866027832,\n",
       "  0.10031795501708984,\n",
       "  0.15174007415771484,\n",
       "  0.09960389137268066,\n",
       "  0.09664320945739746),\n",
       " 'test_time': (1.2696731090545654,\n",
       "  1.2147419452667236,\n",
       "  1.1789371967315674,\n",
       "  1.216310977935791,\n",
       "  1.1611559391021729)}"
      ]
     },
     "execution_count": 7,
     "metadata": {},
     "output_type": "execute_result"
    }
   ],
   "source": [
    "# 4. Використайте крос-валідацію для підбору оптимальних параметрів для обох алгоритмів.\n",
    "cross_validate(algo1, data, measures=['MAE'], cv=5, verbose=True)\n",
    "cross_validate(algo2, data, measures=['MAE'], cv=5, verbose=True)"
   ]
  },
  {
   "cell_type": "code",
   "execution_count": 10,
   "id": "67103e1cb210d414",
   "metadata": {
    "ExecuteTime": {
     "end_time": "2024-09-21T16:05:45.466381Z",
     "start_time": "2024-09-21T16:05:44.991997Z"
    },
    "collapsed": false
   },
   "outputs": [],
   "source": [
    "# 5. Оберіть найкращий алгоритм на основі середньої абсолютної помилки (MAE).\n",
    "# Тренування обраного алгоритму на всьому датасеті\n",
    "trainset = data.build_full_trainset()\n",
    "algo1.fit(trainset)\n",
    "\n",
    "# Генерація рекомендацій для конкретного користувача\n",
    "user_id = '186'\n",
    "user_inner_id = trainset.to_inner_uid(user_id)\n",
    "\n",
    "# Отримуємо список всіх фільмів\n",
    "all_items = trainset.all_items()\n",
    "recommendations = []\n",
    "\n",
    "for item in all_items:\n",
    "    # Отримуємо прогнозовану оцінку\n",
    "    est_rating = algo1.predict(user_id, trainset.to_raw_iid(item)).est\n",
    "    recommendations.append((trainset.to_raw_iid(item), est_rating))\n",
    "\n",
    "# Сортуємо рекомендації за прогнозованими оцінками\n",
    "recommendations.sort(key=lambda x: x[1], reverse=True)"
   ]
  },
  {
   "cell_type": "code",
   "execution_count": 11,
   "id": "5b3668dd67683a3b",
   "metadata": {
    "ExecuteTime": {
     "end_time": "2024-09-21T16:05:45.470166Z",
     "start_time": "2024-09-21T16:05:45.467485Z"
    },
    "collapsed": false
   },
   "outputs": [
    {
     "name": "stdout",
     "output_type": "stream",
     "text": [
      "Рекомендації для користувача: 186\n",
      "Фільм ID: 300, Прогнозована оцінка: 4.82\n",
      "Фільм ID: 318, Прогнозована оцінка: 4.71\n",
      "Фільм ID: 488, Прогнозована оцінка: 4.63\n",
      "Фільм ID: 89, Прогнозована оцінка: 4.61\n",
      "Фільм ID: 513, Прогнозована оцінка: 4.57\n",
      "Фільм ID: 79, Прогнозована оцінка: 4.55\n",
      "Фільм ID: 1194, Прогнозована оцінка: 4.54\n",
      "Фільм ID: 195, Прогнозована оцінка: 4.53\n",
      "Фільм ID: 133, Прогнозована оцінка: 4.47\n",
      "Фільм ID: 498, Прогнозована оцінка: 4.46\n"
     ]
    }
   ],
   "source": [
    "# 6. Виведи рекомендації (10 фільмів) для конкретного користувача.\n",
    "top_10_recommendations = recommendations[:10]\n",
    "print(\"Рекомендації для користувача:\", user_id)\n",
    "for movie_id, rating in top_10_recommendations:\n",
    "    print(f\"Фільм ID: {movie_id}, Прогнозована оцінка: {rating:.2f}\")"
   ]
  },
  {
   "cell_type": "raw",
   "id": "78ac8385570ca2b6",
   "metadata": {
    "collapsed": false
   },
   "source": [
    "Висновок: в даному завданні лабараторної роботи було проаналізовано датасет ml-100k реалізували\n",
    "два алгоритма рекомендаційної системи. Потім зробили крос-валідацію та на останок вивели 10 фільмів для\n",
    "користувача с user_id 186."
   ]
  },
  {
   "cell_type": "raw",
   "id": "f48247e54f12fca7",
   "metadata": {
    "collapsed": false
   },
   "source": [
    "Завдання 2.\n",
    "1. Побудуйте власну рекомендаційну систему (приклад є в документації).\n",
    "Оцініть її.\n",
    "2. Отримайте рекомендацію для певного користувача."
   ]
  },
  {
   "cell_type": "code",
   "execution_count": 22,
   "id": "df9b197f630d13be",
   "metadata": {
    "ExecuteTime": {
     "end_time": "2024-09-21T16:57:48.994804Z",
     "start_time": "2024-09-21T16:57:48.943253Z"
    },
    "collapsed": false
   },
   "outputs": [],
   "source": [
    "# Створюємо матрицю рейтингів (користувачі -> фільми)\n",
    "ratings_matrix = df.pivot_table(index='user', columns='item', values='rating')\n",
    "\n",
    "# Заповнюємо відсутні значення нулями (якщо користувач не оцінював фільм)\n",
    "ratings_matrix = ratings_matrix.fillna(0)"
   ]
  },
  {
   "cell_type": "code",
   "execution_count": 23,
   "id": "8443340ee183abb4",
   "metadata": {
    "ExecuteTime": {
     "end_time": "2024-09-21T16:58:28.279269Z",
     "start_time": "2024-09-21T16:57:49.592948Z"
    },
    "collapsed": false
   },
   "outputs": [],
   "source": [
    "# Функція для обчислення косинусної схожості\n",
    "def cosine_similarity(u, v):\n",
    "    return np.dot(u, v) / (norm(u) * norm(v))\n",
    "\n",
    "# Створюємо матрицю схожості між користувачами\n",
    "user_similarity_matrix = np.zeros((ratings_matrix.shape[0], ratings_matrix.shape[0]))\n",
    "\n",
    "for i in range(ratings_matrix.shape[0]):\n",
    "    for j in range(ratings_matrix.shape[0]):\n",
    "        if i != j:\n",
    "            user_similarity_matrix[i][j] = cosine_similarity(ratings_matrix.iloc[i], ratings_matrix.iloc[j])"
   ]
  },
  {
   "cell_type": "code",
   "execution_count": 24,
   "id": "6e84e3ca753902cd",
   "metadata": {
    "ExecuteTime": {
     "end_time": "2024-09-21T16:58:28.283987Z",
     "start_time": "2024-09-21T16:58:28.282021Z"
    },
    "collapsed": false
   },
   "outputs": [],
   "source": [
    "# Прогнозуємо оцінку для фільму, котрий користувач ще не оцінював\n",
    "def predict_rating(user, item, ratings_matrix, user_similarity_matrix):\n",
    "    # Отримуємо індекси користувача\n",
    "    user_index = user - 1  # Індекс в матриці починається з 0\n",
    "    ratings = ratings_matrix[item]\n",
    "\n",
    "    # Обчислюємо зважену середню оцінку\n",
    "    weighted_sum = 0\n",
    "    similarity_sum = 0\n",
    "\n",
    "    for other_user_index in range(ratings_matrix.shape[0]):\n",
    "        if other_user_index != user_index and ratings_matrix.iloc[other_user_index, item] != 0:\n",
    "            similarity = user_similarity_matrix[user_index, other_user_index]\n",
    "            weighted_sum += similarity * ratings_matrix.iloc[other_user_index, item]\n",
    "            similarity_sum += similarity\n",
    "\n",
    "    if similarity_sum == 0:\n",
    "        return 0\n",
    "    return weighted_sum / similarity_sum"
   ]
  },
  {
   "cell_type": "code",
   "execution_count": 29,
   "id": "3e33f70796e5be0",
   "metadata": {
    "ExecuteTime": {
     "end_time": "2024-09-21T16:59:32.046945Z",
     "start_time": "2024-09-21T16:59:32.035078Z"
    },
    "collapsed": false
   },
   "outputs": [],
   "source": [
    "def recommend_movies(user, ratings_matrix, user_similarity_matrix, num_recommendations=10):\n",
    "    user_ratings = ratings_matrix.iloc[user_id - 1]\n",
    "    recommendations = []\n",
    "\n",
    "    for item in range(ratings_matrix.shape[1]):\n",
    "        if user_ratings.iloc[item] == 0:  # Якщо користувач не оцінював цей фільм\n",
    "            predicted_rating = predict_rating(user, item, ratings_matrix, user_similarity_matrix)\n",
    "            recommendations.append((item, predicted_rating))\n",
    "\n",
    "    # Сортуємо фільми за прогнозованими оцінками\n",
    "    recommendations.sort(key=lambda x: x[1], reverse=True)\n",
    "    \n",
    "    # Повертаємо топ-10 рекомендацій\n",
    "    return recommendations[:num_recommendations]\n"
   ]
  },
  {
   "cell_type": "code",
   "execution_count": null,
   "id": "c3f680470156d59e",
   "metadata": {
    "ExecuteTime": {
     "end_time": "2024-09-21T16:58:28.333478Z",
     "start_time": "2024-09-21T16:58:28.329776Z"
    },
    "collapsed": false
   },
   "outputs": [],
   "source": [
    "def evaluate_own_model(ratings_matrix, user_similarity_matrix):\n",
    "    actual_ratings = []\n",
    "    predicted_ratings = []\n",
    "    \n",
    "    for user_id in range(1, ratings_matrix.shape[0] + 1):\n",
    "        for item_id in range(ratings_matrix.shape[1]):\n",
    "            actual_rating = ratings_matrix.iloc[user_id - 1, item_id]\n",
    "            if actual_rating != 0:  # Ми можемо тільки оцінювати вже наявні рейтинги\n",
    "                predicted_rating = predict_rating(user, item, ratings_matrix, user_similarity_matrix)\n",
    "                actual_ratings.append(actual_rating)\n",
    "                predicted_ratings.append(predicted_rating)\n",
    "\n",
    "    mae = mean_absolute_error(actual_ratings, predicted_ratings)\n",
    "    print(f\"Середня абсолютна помилка (MAE) власної моделі: {mae:.4f}\")\n",
    "    return mae\n",
    "\n",
    "# Оцінимо власну модель\n",
    "own_model_mae = evaluate_own_model(ratings_matrix, user_similarity_matrix)"
   ]
  },
  {
   "cell_type": "code",
   "execution_count": 28,
   "id": "a2ca5d688c3402d4",
   "metadata": {
    "ExecuteTime": {
     "end_time": "2024-09-21T16:59:01.460208Z",
     "start_time": "2024-09-21T16:59:00.827687Z"
    },
    "collapsed": false
   },
   "outputs": [
    {
     "name": "stdout",
     "output_type": "stream",
     "text": [
      "MAE:  0.7425\n",
      "Середня абсолютна помилка (MAE) моделі з Surprise: 0.7425\n"
     ]
    }
   ],
   "source": [
    "# Завантажуємо дані знову для бібліотеки Surprise\n",
    "reader = Reader(rating_scale=(1, 5))\n",
    "data = Dataset.load_from_df(df[['user', 'item', 'rating']], reader)\n",
    "\n",
    "# Розбиваємо на тренувальний і тестовий набори\n",
    "trainset, testset = train_test_split(data, test_size=0.2)\n",
    "\n",
    "# Використовуємо алгоритм SVD для побудови моделі\n",
    "algo = SVD()\n",
    "algo.fit(trainset)\n",
    "\n",
    "# Прогнозуємо оцінки для тестового набору\n",
    "predictions = algo.test(testset)\n",
    "\n",
    "# Оцінимо точність моделі Surprise\n",
    "surprise_mae = accuracy.mae(predictions)\n",
    "print(f\"Середня абсолютна помилка (MAE) моделі з Surprise: {surprise_mae:.4f}\")"
   ]
  },
  {
   "cell_type": "raw",
   "id": "b03a3cccc93fe444",
   "metadata": {
    "collapsed": false,
    "vscode": {
     "languageId": "raw"
    }
   },
   "source": [
    "Висновок - у цій частині лабораторної роботи була створена власна рекомендаційна система. \n",
    "Вона містила елементи аналізу та прогнозування оцінок,\n",
    "і після порівняння моделей було отримано однакові результати.\n",
    "Це свідчить про те, що розробка нової окремої рекомендаційної системи для цього датасету не має сенсу."
   ]
  }
 ],
 "metadata": {
  "kernelspec": {
   "display_name": "Python 3",
   "language": "python",
   "name": "python3"
  },
  "language_info": {
   "codemirror_mode": {
    "name": "ipython",
    "version": 2
   },
   "file_extension": ".py",
   "mimetype": "text/x-python",
   "name": "python",
   "nbconvert_exporter": "python",
   "pygments_lexer": "ipython2",
   "version": "2.7.6"
  }
 },
 "nbformat": 4,
 "nbformat_minor": 5
}
